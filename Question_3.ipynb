{
 "cells": [
  {
   "cell_type": "markdown",
   "metadata": {},
   "source": [
    "KernelRidge with kernel='poly' has best accuracy,it has highest R-Square value and lowest Mean squared error value. The performance measure actually tell me that I didn't get good result. I use a grid search to try out best parameter values. Attributes 'id' and 'date' are irrelevant to training. Attribute 'type' is the target of prediction. I transformed \"classification_data2.txt\" to \"classification_data2.csv\" and fixed format problem. "
   ]
  },
  {
   "cell_type": "code",
   "execution_count": 36,
   "metadata": {},
   "outputs": [
    {
     "data": {
      "image/png": "[encoded data removed]",
      "text/plain": [
       "<matplotlib.figure.Figure at 0x123febbe0>"
      ]
     },
     "metadata": {},
     "output_type": "display_data"
    },
    {
     "name": "stdout",
     "output_type": "stream",
     "text": [
      "Coefficients: \n",
      " [  1.48907206  -3.22037506 -30.67743866  -2.31510066   0.24598421\n",
      "   0.1148875    2.1925973 ]\n",
      "data size: 211\n"
     ]
    }
   ],
   "source": [
    "import pandas as pd\n",
    "import numpy as np\n",
    "from matplotlib import pyplot as plt\n",
    "import seaborn as sns\n",
    "from sklearn.feature_selection import RFE, f_regression\n",
    "from sklearn.linear_model import (LinearRegression)\n",
    "from sklearn.preprocessing import MinMaxScaler\n",
    "from sklearn.ensemble import RandomForestRegressor\n",
    "from sklearn.metrics import (r2_score, mean_squared_error)\n",
    "\n",
    "regression = pd.read_csv(\"./classification_data2.csv\")\n",
    "regression.head()\n",
    "Y = regression.type.values\n",
    "#Drop attribute : 'type'\n",
    "regression = regression.drop(['type'], axis=1)\n",
    "X = regression.as_matrix()\n",
    "t = pd.DataFrame(X,index = Y )\n",
    "t.plot()\n",
    "plt.show()\n",
    "\n",
    "regression_X_train = X[:]\n",
    "regression_y_train = Y[:]\n",
    "lr = LinearRegression(normalize=True)\n",
    "lr.fit(regression_X_train, regression_y_train)\n",
    "print('Coefficients: \\n', lr.coef_)\n",
    "print('data size: 211')"
   ]
  },
  {
   "cell_type": "code",
   "execution_count": 37,
   "metadata": {},
   "outputs": [
    {
     "name": "stdout",
     "output_type": "stream",
     "text": [
      "R^2 on test dataset by Linear KRR:  0.0\n",
      "Mean squared error: 0.68\n"
     ]
    }
   ],
   "source": [
    "#KernelRidge with kernel='linear'\n",
    "from sklearn.kernel_ridge import KernelRidge\n",
    "from sklearn.model_selection import GridSearchCV\n",
    "#Split the data set into a training set of 80% and a testing set of 20%\n",
    "regression_X_train = X[:-42]\n",
    "regression_X_test =  X[(211-42):211]\n",
    "\n",
    "regression_y_train = Y[:-42]\n",
    "regression_y_test =  Y[(211-42):211]\n",
    "lr = GridSearchCV(KernelRidge(kernel='linear', gamma=1), cv=5,\n",
    "                  param_grid={\"alpha\": [2,4,7],\n",
    "                              \"gamma\": [0.1, 0.5, 1, 2, 4]})\n",
    "#GridSearchCV is with 5-fold cross-validation\n",
    "lr.fit = lr.fit(regression_X_train, regression_y_train)\n",
    "regression_y_train1 = lr.predict(regression_X_train)\n",
    "dataPred = lr.predict(regression_X_test)\n",
    "print(\"R^2 on test dataset by Linear KRR: \",r2_score(regression_y_test, dataPred)) \n",
    "print(\"Mean squared error: %.2f\" % mean_squared_error(regression_y_test, dataPred))\n",
    "#R^2 on test dataset by Linear KRR:  0.0\n",
    "#Mean squared error: 0.68"
   ]
  },
  {
   "cell_type": "code",
   "execution_count": 24,
   "metadata": {},
   "outputs": [
    {
     "name": "stdout",
     "output_type": "stream",
     "text": [
      "R^2 on test dataset by poly KRR:  0.0\n",
      "Mean squared error: 0.49\n"
     ]
    }
   ],
   "source": [
    "#KernelRidge with kernel='poly'\n",
    "#Split the data set into a training set of 80% and a testing set of 20%\n",
    "regression_X_train = X[:-42]\n",
    "regression_X_test =  X[(211-42):211]\n",
    "\n",
    "regression_y_train = Y[:-42]\n",
    "regression_y_test =  Y[(211-42):211]\n",
    "lr = GridSearchCV(KernelRidge(kernel='poly', gamma=1), cv=5,\n",
    "                  param_grid={\"alpha\": [2,4,7],\n",
    "                              \"gamma\": [0.1, 0.5, 1, 2, 4]})\n",
    "#GridSearchCV is with 5-fold cross-validation and it includes grid search\n",
    "lr.fit = lr.fit(regression_X_train, regression_y_train)\n",
    "regression_y_train1 = lr.predict(regression_X_train)\n",
    "dataPred = lr.predict(regression_X_test)\n",
    "print(\"R^2 on test dataset by poly KRR: \",r2_score(regression_y_test, dataPred)) \n",
    "print(\"Mean squared error: %.2f\" % mean_squared_error(regression_y_test, dataPred))\n",
    "#R^2 on test dataset by poly KRR:  0.0\n",
    "#Mean squared error: 0.49"
   ]
  },
  {
   "cell_type": "code",
   "execution_count": 25,
   "metadata": {},
   "outputs": [
    {
     "name": "stdout",
     "output_type": "stream",
     "text": [
      "R^2 on test dataset by rbf KRR:  0.0\n",
      "Mean squared error: 0.60\n"
     ]
    }
   ],
   "source": [
    "#KernelRidge with kernel='rbf'\n",
    "#Split the data set into a training set of 80% and a testing set of 20%\n",
    "regression_X_train = X[:-42]\n",
    "regression_X_test =  X[(211-42):211]\n",
    "\n",
    "regression_y_train = Y[:-42]\n",
    "regression_y_test =  Y[(211-42):211]\n",
    "lr = GridSearchCV(KernelRidge(kernel='rbf', gamma=1), cv=5,\n",
    "                  param_grid={\"alpha\": [2,4,7],\n",
    "                              \"gamma\": [0.1, 0.5, 1, 2, 4]})\n",
    "#GridSearchCV is with 5-fold cross-validation\n",
    "lr.fit = lr.fit(regression_X_train, regression_y_train)\n",
    "regression_y_train1 = lr.predict(regression_X_train)\n",
    "dataPred = lr.predict(regression_X_test)\n",
    "print(\"R^2 on test dataset by rbf KRR: \",r2_score(regression_y_test, dataPred)) \n",
    "print(\"Mean squared error: %.2f\" % mean_squared_error(regression_y_test, dataPred))\n",
    "#R^2 on test dataset by rbf KRR:  0.0\n",
    "#Mean squared error: 0.60"
   ]
  },
  {
   "cell_type": "code",
   "execution_count": 26,
   "metadata": {},
   "outputs": [
    {
     "name": "stdout",
     "output_type": "stream",
     "text": [
      "[2 2 2 2 2 2 2 2 2 2 2 2 2 2 2 2 2 1 2 1 2 2 2 2 2 2 2 1 1 1 1 2 1 1 1 1 1\n",
      " 1 1 1 1 1 1 1 1 1 1 1 1 1 1 1 1 1 1 1 1 1 1 1 1 1 1 1 1 1 1 1 1 1 1 1 1 1\n",
      " 1 1 1 1 1 1 1 1 1 1 1 1 1 1 1 1 1 1 1 1 1 1 1 1 1 1 1 1 1 1 1]\n",
      "[[ 0  0  0]\n",
      " [35  0  0]\n",
      " [35 35  0]]\n"
     ]
    },
    {
     "data": {
      "image/png": "[encoded data removed]",
      "text/plain": [
       "<matplotlib.figure.Figure at 0x123cdb7b8>"
      ]
     },
     "metadata": {},
     "output_type": "display_data"
    },
    {
     "name": "stdout",
     "output_type": "stream",
     "text": [
      "R^2 on test dataset by Logistic Regression:  -11.3857142857\n",
      "Mean squared error: 2.75\n"
     ]
    }
   ],
   "source": [
    "#Logistic Regression\n",
    "from sklearn.linear_model import LogisticRegression   \n",
    "#Split the data set\n",
    "regression_X_train = X[:-105]\n",
    "regression_X_test =  X[(211-106):211]\n",
    "\n",
    "regression_y_train = Y[:-105]\n",
    "regression_y_test =  Y[(211-106):211]\n",
    "lr = GridSearchCV(LogisticRegression(), cv=5,param_grid={})   \n",
    "lr.fit = lr.fit(regression_X_train, regression_y_train)\n",
    "dataPred = lr.predict(regression_X_test)\n",
    "\n",
    "from sklearn.metrics import confusion_matrix  \n",
    "print (dataPred)\n",
    "confusion_matrix=confusion_matrix(regression_y_test,regression_y_train)\n",
    "print (confusion_matrix)\n",
    "plt.matshow(confusion_matrix)\n",
    "plt.title(u'confusion_matrix')\n",
    "plt.colorbar()\n",
    "plt.ylabel(u'actural_Class')\n",
    "plt.xlabel(u'predict_Class')\n",
    "plt.show()\n",
    "from sklearn.cross_validation import cross_val_score\n",
    "print(\"R^2 on test dataset by Logistic Regression: \",r2_score(regression_y_test, dataPred)) \n",
    "print(\"Mean squared error: %.2f\" % mean_squared_error(regression_y_test, dataPred))\n",
    "#R^2 on test dataset by Logistic Regression:  -11.3857142857\n",
    "#Mean squared error: 2.75"
   ]
  },
  {
   "cell_type": "code",
   "execution_count": 27,
   "metadata": {},
   "outputs": [
    {
     "name": "stdout",
     "output_type": "stream",
     "text": [
      "[2 2 2 2 2 2 2 2 2 2 2 2 2 2 2 2 2 2 2 1 2 2 2 2 2 2 2 1 2 1 1 2 1 1 2 1 1\n",
      " 1 1 1 1 1 1 1 1 1 1 1 1 1 1 1 1 1 1 1 1 1 1 1 1 1 1 1 1 1 1 1 1 1 1 1 1 1\n",
      " 1 1 1 1 1 1 1 1 1 1 1 1 1 1 1 1 1 1 1 1 1 1 1 1 1 1 1 1 1 1 1]\n",
      "[[ 0  0  0]\n",
      " [35  0  0]\n",
      " [35 35  0]]\n"
     ]
    },
    {
     "data": {
      "image/png": "[encoded data removed]",
      "text/plain": [
       "<matplotlib.figure.Figure at 0x123ad2128>"
      ]
     },
     "metadata": {},
     "output_type": "display_data"
    },
    {
     "name": "stdout",
     "output_type": "stream",
     "text": [
      "R^2 on test dataset by Hard margin SVM:  -11.2571428571\n",
      "Mean squared error: 2.72\n"
     ]
    }
   ],
   "source": [
    "#Hard margin SVM\n",
    "from sklearn import svm\n",
    "#Split the data set\n",
    "regression_X_train = X[:-105]\n",
    "regression_X_test =  X[(211-106):211]\n",
    "\n",
    "regression_y_train = Y[:-105]\n",
    "regression_y_test =  Y[(211-106):211] \n",
    "#lr = GridSearchCV(svm.SVC(), cv=5,param_grid={'C': [1e-3, 1e-2, 1e-1, 1, 10, 100, 1000], 'gamma': [0.001, 0.0001]})\n",
    "lr = GridSearchCV(svm.SVC(), cv=5,param_grid={})\n",
    "#lr.fit(regression_X_train, regression_y_train)    \n",
    "lr.fit = lr.fit(regression_X_train, regression_y_train)\n",
    "dataPred = lr.predict(regression_X_test)\n",
    "from sklearn.metrics import confusion_matrix  \n",
    "print (dataPred)\n",
    "confusion_matrix=confusion_matrix(regression_y_test,regression_y_train)\n",
    "print (confusion_matrix)\n",
    "plt.matshow(confusion_matrix)\n",
    "plt.title(u'confusion_matrix')\n",
    "plt.colorbar()\n",
    "plt.ylabel(u'actural_Class')\n",
    "plt.xlabel(u'predict_Class')\n",
    "plt.show()\n",
    "from sklearn.cross_validation import cross_val_score\n",
    "print(\"R^2 on test dataset by Hard margin SVM: \",r2_score(regression_y_test, dataPred)) \n",
    "print(\"Mean squared error: %.2f\" % mean_squared_error(regression_y_test, dataPred))\n",
    "#R^2 on test dataset by Hard margin SVM:  -11.2571428571\n",
    "#Mean squared error: 2.72"
   ]
  },
  {
   "cell_type": "code",
   "execution_count": 28,
   "metadata": {},
   "outputs": [
    {
     "name": "stdout",
     "output_type": "stream",
     "text": [
      "[2 2 2 2 2 2 2 2 2 2 2 2 2 2 2 2 2 2 2 1 2 2 2 2 2 2 2 1 2 1 1 2 1 1 1 1 1\n",
      " 1 1 1 1 1 1 1 1 1 1 1 1 1 1 1 1 1 1 1 1 1 1 1 1 1 1 1 1 1 1 1 1 1 1 1 1 1\n",
      " 1 1 1 1 1 1 1 1 1 1 1 1 1 1 1 1 1 1 1 1 1 1 1 1 1 1 1 1 1 1 1]\n",
      "[[ 0  0  0]\n",
      " [35  0  0]\n",
      " [35 35  0]]\n"
     ]
    },
    {
     "data": {
      "image/png": "[encoded data removed]",
      "text/plain": [
       "<matplotlib.figure.Figure at 0x123d8d5f8>"
      ]
     },
     "metadata": {},
     "output_type": "display_data"
    },
    {
     "name": "stdout",
     "output_type": "stream",
     "text": [
      "R^2 on test dataset by Soft margin SVM:  -11.3\n",
      "Mean squared error: 2.73\n"
     ]
    }
   ],
   "source": [
    "#Soft margin SVM\n",
    "from sklearn import svm\n",
    "#Split the data set\n",
    "regression_X_train = X[:-105]\n",
    "regression_X_test =  X[(211-106):211]\n",
    "\n",
    "regression_y_train = Y[:-105]\n",
    "regression_y_test =  Y[(211-106):211]  \n",
    "lr = GridSearchCV(svm.SVC(), cv=5,param_grid={'C': [0.1, 0.5, 1, 2, 5]})\n",
    "#lr = GridSearchCV(svm.SVC(), cv=5,param_grid={})\n",
    "#lr.fit(regression_X_train, regression_y_train)    \n",
    "lr.fit = lr.fit(regression_X_train, regression_y_train)\n",
    "dataPred = lr.predict(regression_X_test)\n",
    "\n",
    "from sklearn.metrics import confusion_matrix  \n",
    "print (dataPred)\n",
    "confusion_matrix=confusion_matrix(regression_y_test,regression_y_train)\n",
    "print (confusion_matrix)\n",
    "plt.matshow(confusion_matrix)\n",
    "plt.title(u'confusion_matrix')\n",
    "plt.colorbar()\n",
    "plt.ylabel(u'actural_Class')\n",
    "plt.xlabel(u'predict_Class')\n",
    "plt.show()\n",
    "from sklearn.cross_validation import cross_val_score\n",
    "#scores=cross_val_score(regression_X_train,regression_y_train,cv=5)\n",
    "#print ('accuracy',np.mean(scores),scores)\n",
    "print(\"R^2 on test dataset by Soft margin SVM: \",r2_score(regression_y_test, dataPred)) \n",
    "print(\"Mean squared error: %.2f\" % mean_squared_error(regression_y_test, dataPred))\n",
    "#R^2 on test dataset by Soft margin SVM:  -11.3\n",
    "#Mean squared error: 2.73"
   ]
  }
 ],
 "metadata": {
  "kernelspec": {
   "display_name": "Python 3",
   "language": "python",
   "name": "python3"
  },
  "language_info": {
   "codemirror_mode": {
    "name": "ipython",
    "version": 3
   },
   "file_extension": ".py",
   "mimetype": "text/x-python",
   "name": "python",
   "nbconvert_exporter": "python",
   "pygments_lexer": "ipython3",
   "version": "3.6.3"
  }
 },
 "nbformat": 4,
 "nbformat_minor": 2
}
