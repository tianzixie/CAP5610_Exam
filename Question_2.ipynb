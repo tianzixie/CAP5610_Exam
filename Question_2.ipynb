{
 "cells": [
  {
   "cell_type": "markdown",
   "metadata": {},
   "source": [
    "Hard margin SVM with GridSearchCV(svm.SVC(), cv=5,param_grid={}) has best accuracy,it has highest R-Square value and lowest Mean squared error value. The performance measure actually tell me that I didn't get good result. I use a grid search to try out best parameter values.  Attribute 'Class' is the target of prediction. I transformed \"classification_data.tsv\" to \"classification_data.csv\". I use small size of data to increase speed. "
   ]
  },
  {
   "cell_type": "code",
   "execution_count": 10,
   "metadata": {},
   "outputs": [
    {
     "data": {
      "image/png": "[encoded data removed]",
      "text/plain": [
       "<matplotlib.figure.Figure at 0x11acc1748>"
      ]
     },
     "metadata": {},
     "output_type": "display_data"
    },
    {
     "name": "stdout",
     "output_type": "stream",
     "text": [
      "Coefficients: \n",
      " [ 0.00339527 -0.00022885 -0.00450663]\n",
      "data size: 245058\n"
     ]
    }
   ],
   "source": [
    "import pandas as pd\n",
    "import numpy as np\n",
    "from matplotlib import pyplot as plt\n",
    "import seaborn as sns\n",
    "from sklearn.feature_selection import RFE, f_regression\n",
    "from sklearn.linear_model import (LinearRegression)\n",
    "from sklearn.preprocessing import MinMaxScaler\n",
    "from sklearn.ensemble import RandomForestRegressor\n",
    "from sklearn.metrics import (r2_score, mean_squared_error)\n",
    "\n",
    "regression = pd.read_csv(\"./classification_data.csv\")\n",
    "regression.head()\n",
    "#regression = regression.drop(['Red','Green','Blue'],axis=1)\n",
    "Y = regression.Class.values\n",
    "regression = regression.drop(['Class'], axis=1)\n",
    "X = regression.as_matrix()\n",
    "t = pd.DataFrame(X,index = Y )\n",
    "t.plot()\n",
    "plt.show()\n",
    "\n",
    "regression_X_train = X[:]\n",
    "regression_y_train = Y[:]\n",
    "lr = LinearRegression(normalize=True)\n",
    "lr.fit(regression_X_train, regression_y_train)\n",
    "print('Coefficients: \\n', lr.coef_)\n",
    "print('data size: 245058')"
   ]
  },
  {
   "cell_type": "code",
   "execution_count": 7,
   "metadata": {},
   "outputs": [
    {
     "name": "stdout",
     "output_type": "stream",
     "text": [
      "R^2 on test dataset by Linear KRR:  -37.4341607128\n",
      "Mean squared error: 6.25\n"
     ]
    }
   ],
   "source": [
    "#KernelRidge with kernel='linear'\n",
    "from sklearn.kernel_ridge import KernelRidge\n",
    "from sklearn.model_selection import GridSearchCV\n",
    "#To reduce time, split the data set into a training set of 4000 (80%) and a testing set of 1000 (20%)\n",
    "regression_X_train = X[:-241058]\n",
    "regression_X_test =  X[(245058-244058):245058]\n",
    "\n",
    "regression_y_train = Y[:-241058]\n",
    "regression_y_test =  Y[(245058-244058):245058]\n",
    "lr = GridSearchCV(KernelRidge(kernel='linear', gamma=1), cv=5,\n",
    "                  param_grid={\"alpha\": [2,4,7],\n",
    "                              \"gamma\": [0.1, 0.5, 1, 2, 4]})\n",
    "#GridSearchCV is with 5-fold cross-validation and it includes grid search\n",
    "lr.fit = lr.fit(regression_X_train, regression_y_train)\n",
    "regression_y_train1 = lr.predict(regression_X_train)\n",
    "dataPred = lr.predict(regression_X_test)\n",
    "print(\"R^2 on test dataset by Linear KRR: \",r2_score(regression_y_test, dataPred)) \n",
    "print(\"Mean squared error: %.2f\" % mean_squared_error(regression_y_test, dataPred))\n",
    "#R^2 on test dataset by Linear KRR:  -37.4341607128\n",
    "#Mean squared error: 6.25"
   ]
  },
  {
   "cell_type": "code",
   "execution_count": 35,
   "metadata": {},
   "outputs": [
    {
     "name": "stderr",
     "output_type": "stream",
     "text": [
      "/Users/t0/anaconda3/lib/python3.6/site-packages/scipy/linalg/basic.py:40: RuntimeWarning: scipy.linalg.solve\n",
      "Ill-conditioned matrix detected. Result is not guaranteed to be accurate.\n",
      "Reciprocal condition number/precision: 8.878876873096602e-17 / 1.1102230246251565e-16\n",
      "  RuntimeWarning)\n",
      "/Users/t0/anaconda3/lib/python3.6/site-packages/scipy/linalg/basic.py:40: RuntimeWarning: scipy.linalg.solve\n",
      "Ill-conditioned matrix detected. Result is not guaranteed to be accurate.\n",
      "Reciprocal condition number/precision: 8.32732582170335e-17 / 1.1102230246251565e-16\n",
      "  RuntimeWarning)\n",
      "/Users/t0/anaconda3/lib/python3.6/site-packages/scipy/linalg/basic.py:40: RuntimeWarning: scipy.linalg.solve\n",
      "Ill-conditioned matrix detected. Result is not guaranteed to be accurate.\n",
      "Reciprocal condition number/precision: 9.037735687438652e-17 / 1.1102230246251565e-16\n",
      "  RuntimeWarning)\n",
      "/Users/t0/anaconda3/lib/python3.6/site-packages/scipy/linalg/basic.py:40: RuntimeWarning: scipy.linalg.solve\n",
      "Ill-conditioned matrix detected. Result is not guaranteed to be accurate.\n",
      "Reciprocal condition number/precision: 8.691308353525568e-17 / 1.1102230246251565e-16\n",
      "  RuntimeWarning)\n",
      "/Users/t0/anaconda3/lib/python3.6/site-packages/scipy/linalg/basic.py:40: RuntimeWarning: scipy.linalg.solve\n",
      "Ill-conditioned matrix detected. Result is not guaranteed to be accurate.\n",
      "Reciprocal condition number/precision: 8.000554187080201e-17 / 1.1102230246251565e-16\n",
      "  RuntimeWarning)\n",
      "/Users/t0/anaconda3/lib/python3.6/site-packages/sklearn/linear_model/ridge.py:154: UserWarning: Singular matrix in solving dual problem. Using least-squares solution instead.\n",
      "  warnings.warn(\"Singular matrix in solving dual problem. Using \"\n",
      "/Users/t0/anaconda3/lib/python3.6/site-packages/sklearn/linear_model/ridge.py:154: UserWarning: Singular matrix in solving dual problem. Using least-squares solution instead.\n",
      "  warnings.warn(\"Singular matrix in solving dual problem. Using \"\n",
      "/Users/t0/anaconda3/lib/python3.6/site-packages/sklearn/linear_model/ridge.py:154: UserWarning: Singular matrix in solving dual problem. Using least-squares solution instead.\n",
      "  warnings.warn(\"Singular matrix in solving dual problem. Using \"\n",
      "/Users/t0/anaconda3/lib/python3.6/site-packages/sklearn/linear_model/ridge.py:154: UserWarning: Singular matrix in solving dual problem. Using least-squares solution instead.\n",
      "  warnings.warn(\"Singular matrix in solving dual problem. Using \"\n",
      "/Users/t0/anaconda3/lib/python3.6/site-packages/sklearn/linear_model/ridge.py:154: UserWarning: Singular matrix in solving dual problem. Using least-squares solution instead.\n",
      "  warnings.warn(\"Singular matrix in solving dual problem. Using \"\n",
      "/Users/t0/anaconda3/lib/python3.6/site-packages/sklearn/linear_model/ridge.py:154: UserWarning: Singular matrix in solving dual problem. Using least-squares solution instead.\n",
      "  warnings.warn(\"Singular matrix in solving dual problem. Using \"\n",
      "/Users/t0/anaconda3/lib/python3.6/site-packages/sklearn/linear_model/ridge.py:154: UserWarning: Singular matrix in solving dual problem. Using least-squares solution instead.\n",
      "  warnings.warn(\"Singular matrix in solving dual problem. Using \"\n",
      "/Users/t0/anaconda3/lib/python3.6/site-packages/sklearn/linear_model/ridge.py:154: UserWarning: Singular matrix in solving dual problem. Using least-squares solution instead.\n",
      "  warnings.warn(\"Singular matrix in solving dual problem. Using \"\n",
      "/Users/t0/anaconda3/lib/python3.6/site-packages/sklearn/linear_model/ridge.py:154: UserWarning: Singular matrix in solving dual problem. Using least-squares solution instead.\n",
      "  warnings.warn(\"Singular matrix in solving dual problem. Using \"\n",
      "/Users/t0/anaconda3/lib/python3.6/site-packages/sklearn/linear_model/ridge.py:154: UserWarning: Singular matrix in solving dual problem. Using least-squares solution instead.\n",
      "  warnings.warn(\"Singular matrix in solving dual problem. Using \"\n",
      "/Users/t0/anaconda3/lib/python3.6/site-packages/sklearn/linear_model/ridge.py:154: UserWarning: Singular matrix in solving dual problem. Using least-squares solution instead.\n",
      "  warnings.warn(\"Singular matrix in solving dual problem. Using \"\n",
      "/Users/t0/anaconda3/lib/python3.6/site-packages/sklearn/linear_model/ridge.py:154: UserWarning: Singular matrix in solving dual problem. Using least-squares solution instead.\n",
      "  warnings.warn(\"Singular matrix in solving dual problem. Using \"\n",
      "/Users/t0/anaconda3/lib/python3.6/site-packages/sklearn/linear_model/ridge.py:154: UserWarning: Singular matrix in solving dual problem. Using least-squares solution instead.\n",
      "  warnings.warn(\"Singular matrix in solving dual problem. Using \"\n",
      "/Users/t0/anaconda3/lib/python3.6/site-packages/sklearn/linear_model/ridge.py:154: UserWarning: Singular matrix in solving dual problem. Using least-squares solution instead.\n",
      "  warnings.warn(\"Singular matrix in solving dual problem. Using \"\n",
      "/Users/t0/anaconda3/lib/python3.6/site-packages/sklearn/linear_model/ridge.py:154: UserWarning: Singular matrix in solving dual problem. Using least-squares solution instead.\n",
      "  warnings.warn(\"Singular matrix in solving dual problem. Using \"\n",
      "/Users/t0/anaconda3/lib/python3.6/site-packages/sklearn/linear_model/ridge.py:154: UserWarning: Singular matrix in solving dual problem. Using least-squares solution instead.\n",
      "  warnings.warn(\"Singular matrix in solving dual problem. Using \"\n",
      "/Users/t0/anaconda3/lib/python3.6/site-packages/sklearn/linear_model/ridge.py:154: UserWarning: Singular matrix in solving dual problem. Using least-squares solution instead.\n",
      "  warnings.warn(\"Singular matrix in solving dual problem. Using \"\n",
      "/Users/t0/anaconda3/lib/python3.6/site-packages/sklearn/linear_model/ridge.py:154: UserWarning: Singular matrix in solving dual problem. Using least-squares solution instead.\n",
      "  warnings.warn(\"Singular matrix in solving dual problem. Using \"\n",
      "/Users/t0/anaconda3/lib/python3.6/site-packages/sklearn/linear_model/ridge.py:154: UserWarning: Singular matrix in solving dual problem. Using least-squares solution instead.\n",
      "  warnings.warn(\"Singular matrix in solving dual problem. Using \"\n",
      "/Users/t0/anaconda3/lib/python3.6/site-packages/sklearn/linear_model/ridge.py:154: UserWarning: Singular matrix in solving dual problem. Using least-squares solution instead.\n",
      "  warnings.warn(\"Singular matrix in solving dual problem. Using \"\n",
      "/Users/t0/anaconda3/lib/python3.6/site-packages/sklearn/linear_model/ridge.py:154: UserWarning: Singular matrix in solving dual problem. Using least-squares solution instead.\n",
      "  warnings.warn(\"Singular matrix in solving dual problem. Using \"\n",
      "/Users/t0/anaconda3/lib/python3.6/site-packages/sklearn/linear_model/ridge.py:154: UserWarning: Singular matrix in solving dual problem. Using least-squares solution instead.\n",
      "  warnings.warn(\"Singular matrix in solving dual problem. Using \"\n",
      "/Users/t0/anaconda3/lib/python3.6/site-packages/sklearn/linear_model/ridge.py:154: UserWarning: Singular matrix in solving dual problem. Using least-squares solution instead.\n",
      "  warnings.warn(\"Singular matrix in solving dual problem. Using \"\n",
      "/Users/t0/anaconda3/lib/python3.6/site-packages/sklearn/linear_model/ridge.py:154: UserWarning: Singular matrix in solving dual problem. Using least-squares solution instead.\n",
      "  warnings.warn(\"Singular matrix in solving dual problem. Using \"\n",
      "/Users/t0/anaconda3/lib/python3.6/site-packages/sklearn/linear_model/ridge.py:154: UserWarning: Singular matrix in solving dual problem. Using least-squares solution instead.\n",
      "  warnings.warn(\"Singular matrix in solving dual problem. Using \"\n",
      "/Users/t0/anaconda3/lib/python3.6/site-packages/sklearn/linear_model/ridge.py:154: UserWarning: Singular matrix in solving dual problem. Using least-squares solution instead.\n",
      "  warnings.warn(\"Singular matrix in solving dual problem. Using \"\n",
      "/Users/t0/anaconda3/lib/python3.6/site-packages/sklearn/linear_model/ridge.py:154: UserWarning: Singular matrix in solving dual problem. Using least-squares solution instead.\n",
      "  warnings.warn(\"Singular matrix in solving dual problem. Using \"\n",
      "/Users/t0/anaconda3/lib/python3.6/site-packages/sklearn/linear_model/ridge.py:154: UserWarning: Singular matrix in solving dual problem. Using least-squares solution instead.\n",
      "  warnings.warn(\"Singular matrix in solving dual problem. Using \"\n",
      "/Users/t0/anaconda3/lib/python3.6/site-packages/sklearn/linear_model/ridge.py:154: UserWarning: Singular matrix in solving dual problem. Using least-squares solution instead.\n",
      "  warnings.warn(\"Singular matrix in solving dual problem. Using \"\n",
      "/Users/t0/anaconda3/lib/python3.6/site-packages/sklearn/linear_model/ridge.py:154: UserWarning: Singular matrix in solving dual problem. Using least-squares solution instead.\n",
      "  warnings.warn(\"Singular matrix in solving dual problem. Using \"\n",
      "/Users/t0/anaconda3/lib/python3.6/site-packages/sklearn/linear_model/ridge.py:154: UserWarning: Singular matrix in solving dual problem. Using least-squares solution instead.\n",
      "  warnings.warn(\"Singular matrix in solving dual problem. Using \"\n",
      "/Users/t0/anaconda3/lib/python3.6/site-packages/sklearn/linear_model/ridge.py:154: UserWarning: Singular matrix in solving dual problem. Using least-squares solution instead.\n",
      "  warnings.warn(\"Singular matrix in solving dual problem. Using \"\n",
      "/Users/t0/anaconda3/lib/python3.6/site-packages/sklearn/linear_model/ridge.py:154: UserWarning: Singular matrix in solving dual problem. Using least-squares solution instead.\n",
      "  warnings.warn(\"Singular matrix in solving dual problem. Using \"\n",
      "/Users/t0/anaconda3/lib/python3.6/site-packages/sklearn/linear_model/ridge.py:154: UserWarning: Singular matrix in solving dual problem. Using least-squares solution instead.\n",
      "  warnings.warn(\"Singular matrix in solving dual problem. Using \"\n",
      "/Users/t0/anaconda3/lib/python3.6/site-packages/sklearn/linear_model/ridge.py:154: UserWarning: Singular matrix in solving dual problem. Using least-squares solution instead.\n",
      "  warnings.warn(\"Singular matrix in solving dual problem. Using \"\n",
      "/Users/t0/anaconda3/lib/python3.6/site-packages/sklearn/linear_model/ridge.py:154: UserWarning: Singular matrix in solving dual problem. Using least-squares solution instead.\n",
      "  warnings.warn(\"Singular matrix in solving dual problem. Using \"\n",
      "/Users/t0/anaconda3/lib/python3.6/site-packages/sklearn/linear_model/ridge.py:154: UserWarning: Singular matrix in solving dual problem. Using least-squares solution instead.\n",
      "  warnings.warn(\"Singular matrix in solving dual problem. Using \"\n",
      "/Users/t0/anaconda3/lib/python3.6/site-packages/sklearn/linear_model/ridge.py:154: UserWarning: Singular matrix in solving dual problem. Using least-squares solution instead.\n",
      "  warnings.warn(\"Singular matrix in solving dual problem. Using \"\n",
      "/Users/t0/anaconda3/lib/python3.6/site-packages/sklearn/linear_model/ridge.py:154: UserWarning: Singular matrix in solving dual problem. Using least-squares solution instead.\n",
      "  warnings.warn(\"Singular matrix in solving dual problem. Using \"\n",
      "/Users/t0/anaconda3/lib/python3.6/site-packages/sklearn/linear_model/ridge.py:154: UserWarning: Singular matrix in solving dual problem. Using least-squares solution instead.\n",
      "  warnings.warn(\"Singular matrix in solving dual problem. Using \"\n",
      "/Users/t0/anaconda3/lib/python3.6/site-packages/sklearn/linear_model/ridge.py:154: UserWarning: Singular matrix in solving dual problem. Using least-squares solution instead.\n",
      "  warnings.warn(\"Singular matrix in solving dual problem. Using \"\n",
      "/Users/t0/anaconda3/lib/python3.6/site-packages/sklearn/linear_model/ridge.py:154: UserWarning: Singular matrix in solving dual problem. Using least-squares solution instead.\n",
      "  warnings.warn(\"Singular matrix in solving dual problem. Using \"\n",
      "/Users/t0/anaconda3/lib/python3.6/site-packages/sklearn/linear_model/ridge.py:154: UserWarning: Singular matrix in solving dual problem. Using least-squares solution instead.\n",
      "  warnings.warn(\"Singular matrix in solving dual problem. Using \"\n",
      "/Users/t0/anaconda3/lib/python3.6/site-packages/sklearn/linear_model/ridge.py:154: UserWarning: Singular matrix in solving dual problem. Using least-squares solution instead.\n",
      "  warnings.warn(\"Singular matrix in solving dual problem. Using \"\n",
      "/Users/t0/anaconda3/lib/python3.6/site-packages/sklearn/linear_model/ridge.py:154: UserWarning: Singular matrix in solving dual problem. Using least-squares solution instead.\n",
      "  warnings.warn(\"Singular matrix in solving dual problem. Using \"\n",
      "/Users/t0/anaconda3/lib/python3.6/site-packages/sklearn/linear_model/ridge.py:154: UserWarning: Singular matrix in solving dual problem. Using least-squares solution instead.\n",
      "  warnings.warn(\"Singular matrix in solving dual problem. Using \"\n",
      "/Users/t0/anaconda3/lib/python3.6/site-packages/sklearn/linear_model/ridge.py:154: UserWarning: Singular matrix in solving dual problem. Using least-squares solution instead.\n",
      "  warnings.warn(\"Singular matrix in solving dual problem. Using \"\n",
      "/Users/t0/anaconda3/lib/python3.6/site-packages/sklearn/linear_model/ridge.py:154: UserWarning: Singular matrix in solving dual problem. Using least-squares solution instead.\n",
      "  warnings.warn(\"Singular matrix in solving dual problem. Using \"\n",
      "/Users/t0/anaconda3/lib/python3.6/site-packages/sklearn/linear_model/ridge.py:154: UserWarning: Singular matrix in solving dual problem. Using least-squares solution instead.\n",
      "  warnings.warn(\"Singular matrix in solving dual problem. Using \"\n",
      "/Users/t0/anaconda3/lib/python3.6/site-packages/sklearn/linear_model/ridge.py:154: UserWarning: Singular matrix in solving dual problem. Using least-squares solution instead.\n",
      "  warnings.warn(\"Singular matrix in solving dual problem. Using \"\n",
      "/Users/t0/anaconda3/lib/python3.6/site-packages/sklearn/linear_model/ridge.py:154: UserWarning: Singular matrix in solving dual problem. Using least-squares solution instead.\n",
      "  warnings.warn(\"Singular matrix in solving dual problem. Using \"\n",
      "/Users/t0/anaconda3/lib/python3.6/site-packages/sklearn/linear_model/ridge.py:154: UserWarning: Singular matrix in solving dual problem. Using least-squares solution instead.\n",
      "  warnings.warn(\"Singular matrix in solving dual problem. Using \"\n",
      "/Users/t0/anaconda3/lib/python3.6/site-packages/sklearn/linear_model/ridge.py:154: UserWarning: Singular matrix in solving dual problem. Using least-squares solution instead.\n",
      "  warnings.warn(\"Singular matrix in solving dual problem. Using \"\n",
      "/Users/t0/anaconda3/lib/python3.6/site-packages/sklearn/linear_model/ridge.py:154: UserWarning: Singular matrix in solving dual problem. Using least-squares solution instead.\n",
      "  warnings.warn(\"Singular matrix in solving dual problem. Using \"\n",
      "/Users/t0/anaconda3/lib/python3.6/site-packages/sklearn/linear_model/ridge.py:154: UserWarning: Singular matrix in solving dual problem. Using least-squares solution instead.\n",
      "  warnings.warn(\"Singular matrix in solving dual problem. Using \"\n",
      "/Users/t0/anaconda3/lib/python3.6/site-packages/sklearn/linear_model/ridge.py:154: UserWarning: Singular matrix in solving dual problem. Using least-squares solution instead.\n",
      "  warnings.warn(\"Singular matrix in solving dual problem. Using \"\n",
      "/Users/t0/anaconda3/lib/python3.6/site-packages/sklearn/linear_model/ridge.py:154: UserWarning: Singular matrix in solving dual problem. Using least-squares solution instead.\n",
      "  warnings.warn(\"Singular matrix in solving dual problem. Using \"\n",
      "/Users/t0/anaconda3/lib/python3.6/site-packages/sklearn/linear_model/ridge.py:154: UserWarning: Singular matrix in solving dual problem. Using least-squares solution instead.\n",
      "  warnings.warn(\"Singular matrix in solving dual problem. Using \"\n",
      "/Users/t0/anaconda3/lib/python3.6/site-packages/sklearn/linear_model/ridge.py:154: UserWarning: Singular matrix in solving dual problem. Using least-squares solution instead.\n",
      "  warnings.warn(\"Singular matrix in solving dual problem. Using \"\n",
      "/Users/t0/anaconda3/lib/python3.6/site-packages/sklearn/linear_model/ridge.py:154: UserWarning: Singular matrix in solving dual problem. Using least-squares solution instead.\n",
      "  warnings.warn(\"Singular matrix in solving dual problem. Using \"\n",
      "/Users/t0/anaconda3/lib/python3.6/site-packages/scipy/linalg/basic.py:40: RuntimeWarning: scipy.linalg.solve\n",
      "Ill-conditioned matrix detected. Result is not guaranteed to be accurate.\n",
      "Reciprocal condition number/precision: 6.390730617276815e-17 / 1.1102230246251565e-16\n",
      "  RuntimeWarning)\n"
     ]
    },
    {
     "name": "stdout",
     "output_type": "stream",
     "text": [
      "R^2 on test dataset by poly KRR:  -381.557505029\n",
      "Mean squared error: 62.55\n"
     ]
    }
   ],
   "source": [
    "#KernelRidge with kernel='poly'\n",
    "#To reduce time, split the data set into a training set of 2000 (80%) and a testing set of 500 (20%)\n",
    "regression_X_train = X[:-243058]\n",
    "regression_X_test =  X[(245058-244558):245058]\n",
    "\n",
    "regression_y_train = Y[:-243058]\n",
    "regression_y_test =  Y[(245058-244558):245058]\n",
    "lr = GridSearchCV(KernelRidge(kernel='poly', gamma=1), cv=5,\n",
    "                  param_grid={\"alpha\": [2,4,7],\n",
    "                              \"gamma\": [0.1, 0.5, 1, 2, 4]})\n",
    "#GridSearchCV is with 5-fold cross-validation\n",
    "lr.fit = lr.fit(regression_X_train, regression_y_train)\n",
    "regression_y_train1 = lr.predict(regression_X_train)\n",
    "dataPred = lr.predict(regression_X_test)\n",
    "print(\"R^2 on test dataset by poly KRR: \",r2_score(regression_y_test, dataPred)) \n",
    "print(\"Mean squared error: %.2f\" % mean_squared_error(regression_y_test, dataPred))\n",
    "#R^2 on test dataset by poly KRR:  -381.557505029\n",
    "#Mean squared error: 62.55"
   ]
  },
  {
   "cell_type": "code",
   "execution_count": 34,
   "metadata": {},
   "outputs": [
    {
     "name": "stdout",
     "output_type": "stream",
     "text": [
      "R^2 on test dataset by rbf KRR:  -19.5871331947\n",
      "Mean squared error: 3.35\n"
     ]
    }
   ],
   "source": [
    "#KernelRidge with kernel='rbf'\n",
    "#To reduce time, split the data set into a training set of 4000 (80%) and a testing set of 1000 (20%)\n",
    "\n",
    "regression_X_train = X[:-241058]\n",
    "regression_X_test =  X[(245058-244058):245058]\n",
    "\n",
    "regression_y_train = Y[:-241058]\n",
    "regression_y_test =  Y[(245058-244058):245058]\n",
    "lr = GridSearchCV(KernelRidge(kernel='rbf', gamma=1), cv=5,\n",
    "                  param_grid={\"alpha\": [2,4,7],\n",
    "                              \"gamma\": [0.1, 0.5, 1, 2, 4]})\n",
    "#GridSearchCV is with 5-fold cross-validation\n",
    "lr.fit = lr.fit(regression_X_train, regression_y_train)\n",
    "regression_y_train1 = lr.predict(regression_X_train)\n",
    "dataPred = lr.predict(regression_X_test)\n",
    "print(\"R^2 on test dataset by rbf KRR: \",r2_score(regression_y_test, dataPred)) \n",
    "print(\"Mean squared error: %.2f\" % mean_squared_error(regression_y_test, dataPred))\n",
    "#R^2 on test dataset by rbf KRR:  -19.5871331947\n",
    "#Mean squared error: 3.35"
   ]
  },
  {
   "cell_type": "code",
   "execution_count": 36,
   "metadata": {},
   "outputs": [
    {
     "name": "stdout",
     "output_type": "stream",
     "text": [
      "[1 1 1 ..., 2 2 2]\n",
      "[[  1847      0]\n",
      " [ 49012 145186]]\n"
     ]
    },
    {
     "data": {
      "image/png": "[encoded data removed]",
      "text/plain": [
       "<matplotlib.figure.Figure at 0x117606470>"
      ]
     },
     "metadata": {},
     "output_type": "display_data"
    },
    {
     "name": "stdout",
     "output_type": "stream",
     "text": [
      "R^2 on test dataset by Logistic Regression:  -6.00754704759\n",
      "Mean squared error: 0.07\n"
     ]
    }
   ],
   "source": [
    "#Logistic Regression\n",
    "from sklearn.linear_model import LogisticRegression   \n",
    "#Split the data set into a training set of 80% and a testing set of 20%\n",
    "regression_X_train = X[:-49012]\n",
    "regression_X_test =  X[(245058-196046):245058]\n",
    "\n",
    "regression_y_train = Y[:-49012]\n",
    "regression_y_test =  Y[(245058-196046):245058]  \n",
    "lr = GridSearchCV(LogisticRegression(), cv=5,param_grid={})   \n",
    "lr.fit = lr.fit(regression_X_train, regression_y_train)\n",
    "dataPred = lr.predict(regression_X_test)\n",
    "\n",
    "from sklearn.metrics import confusion_matrix  \n",
    "print (dataPred)\n",
    "confusion_matrix=confusion_matrix(regression_y_test,regression_y_train)\n",
    "print (confusion_matrix)\n",
    "plt.matshow(confusion_matrix)\n",
    "plt.title(u'confusion_matrix')\n",
    "plt.colorbar()\n",
    "plt.ylabel(u'actural_Class')\n",
    "plt.xlabel(u'predict_Class')\n",
    "plt.show()\n",
    "from sklearn.cross_validation import cross_val_score\n",
    "print(\"R^2 on test dataset by Logistic Regression: \",r2_score(regression_y_test, dataPred)) \n",
    "print(\"Mean squared error: %.2f\" % mean_squared_error(regression_y_test, dataPred))\n",
    "#R^2 on test dataset by Logistic Regression:  -6.00754704759\n",
    "#Mean squared error: 0.07"
   ]
  },
  {
   "cell_type": "code",
   "execution_count": 72,
   "metadata": {},
   "outputs": [
    {
     "name": "stdout",
     "output_type": "stream",
     "text": [
      "[2 2 2 ..., 1 1 1]\n",
      "[[    0     0]\n",
      " [10859  9141]]\n"
     ]
    },
    {
     "data": {
      "image/png": "[encoded data removed]",
      "text/plain": [
       "<matplotlib.figure.Figure at 0x117bf8908>"
      ]
     },
     "metadata": {},
     "output_type": "display_data"
    },
    {
     "name": "stdout",
     "output_type": "stream",
     "text": [
      "R^2 on test dataset by Hard margin SVM:  0.0\n",
      "Mean squared error: 0.36\n"
     ]
    }
   ],
   "source": [
    "#Hard margin SVM\n",
    "from sklearn import svm\n",
    "#Split the data set\n",
    "regression_X_train = X[40000:60000]\n",
    "regression_X_test =  X[60000:80000]\n",
    "\n",
    "regression_y_train = Y[40000:60000]\n",
    "regression_y_test =  Y[60000:80000]  \n",
    "#lr = GridSearchCV(svm.SVC(), cv=5,param_grid={'C': [1e-3, 1e-2, 1e-1, 1, 10, 100, 1000], 'gamma': [0.001, 0.0001]})\n",
    "lr = GridSearchCV(svm.SVC(), cv=5,param_grid={})\n",
    "#lr.fit(regression_X_train, regression_y_train)    \n",
    "lr.fit = lr.fit(regression_X_train, regression_y_train)\n",
    "dataPred = lr.predict(regression_X_test)\n",
    "from sklearn.metrics import confusion_matrix  \n",
    "print (dataPred)\n",
    "confusion_matrix=confusion_matrix(regression_y_test,regression_y_train)\n",
    "print (confusion_matrix)\n",
    "plt.matshow(confusion_matrix)\n",
    "plt.title(u'confusion_matrix')\n",
    "plt.colorbar()\n",
    "plt.ylabel(u'actural_Class')\n",
    "plt.xlabel(u'predict_Class')\n",
    "plt.show()\n",
    "from sklearn.cross_validation import cross_val_score\n",
    "print(\"R^2 on test dataset by Hard margin SVM: \",r2_score(regression_y_test, dataPred)) \n",
    "print(\"Mean squared error: %.2f\" % mean_squared_error(regression_y_test, dataPred))\n",
    "#R^2 on test dataset by Hard margin SVM:  0.0\n",
    "#Mean squared error: 0.36"
   ]
  },
  {
   "cell_type": "code",
   "execution_count": 74,
   "metadata": {},
   "outputs": [
    {
     "name": "stdout",
     "output_type": "stream",
     "text": [
      "[2 2 2 ..., 1 1 1]\n",
      "[[    0     0]\n",
      " [10859  9141]]\n"
     ]
    },
    {
     "data": {
      "image/png": "[encoded data removed]",
      "text/plain": [
       "<matplotlib.figure.Figure at 0x11879e668>"
      ]
     },
     "metadata": {},
     "output_type": "display_data"
    },
    {
     "name": "stdout",
     "output_type": "stream",
     "text": [
      "R^2 on test dataset by Soft margin SVM:  0.0\n",
      "Mean squared error: 0.39\n"
     ]
    }
   ],
   "source": [
    "#Soft margin SVM\n",
    "from sklearn import svm\n",
    "#Split the data set\n",
    "regression_X_train = X[40000:60000]\n",
    "regression_X_test =  X[60000:80000]\n",
    "\n",
    "regression_y_train = Y[40000:60000]\n",
    "regression_y_test =  Y[60000:80000]  \n",
    "lr = GridSearchCV(svm.SVC(), cv=5,param_grid={'C': [0.1, 0.5, 1, 2, 5]})\n",
    "#lr = GridSearchCV(svm.SVC(), cv=5,param_grid={})\n",
    "#lr.fit(regression_X_train, regression_y_train)    \n",
    "lr.fit = lr.fit(regression_X_train, regression_y_train)\n",
    "dataPred = lr.predict(regression_X_test)\n",
    "\n",
    "from sklearn.metrics import confusion_matrix  \n",
    "print (dataPred)\n",
    "confusion_matrix=confusion_matrix(regression_y_test,regression_y_train)\n",
    "print (confusion_matrix)\n",
    "plt.matshow(confusion_matrix)\n",
    "plt.title(u'confusion_matrix')\n",
    "plt.colorbar()\n",
    "plt.ylabel(u'actural_Class')\n",
    "plt.xlabel(u'predict_Class')\n",
    "plt.show()\n",
    "from sklearn.cross_validation import cross_val_score\n",
    "#scores=cross_val_score(regression_X_train,regression_y_train,cv=5)\n",
    "#print ('accuracy',np.mean(scores),scores)\n",
    "print(\"R^2 on test dataset by Soft margin SVM: \",r2_score(regression_y_test, dataPred)) \n",
    "print(\"Mean squared error: %.2f\" % mean_squared_error(regression_y_test, dataPred))\n",
    "#R^2 on test dataset by Soft margin SVM:  0.0\n",
    "#Mean squared error: 0.39"
   ]
  }
 ],
 "metadata": {
  "kernelspec": {
   "display_name": "Python 3",
   "language": "python",
   "name": "python3"
  },
  "language_info": {
   "codemirror_mode": {
    "name": "ipython",
    "version": 3
   },
   "file_extension": ".py",
   "mimetype": "text/x-python",
   "name": "python",
   "nbconvert_exporter": "python",
   "pygments_lexer": "ipython3",
   "version": "3.6.3"
  }
 },
 "nbformat": 4,
 "nbformat_minor": 2
}
